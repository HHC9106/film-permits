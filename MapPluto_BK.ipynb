{
 "cells": [
  {
   "cell_type": "code",
   "execution_count": 1,
   "id": "c474e8f3",
   "metadata": {},
   "outputs": [],
   "source": [
    "import warnings\n",
    "warnings.filterwarnings(\"ignore\")\n",
    "\n",
    "import requests\n",
    "import numpy as np\n",
    "import pandas as pd\n",
    "import geopandas as gpd # GeoPandas library for spatial analytics"
   ]
  },
  {
   "cell_type": "code",
   "execution_count": 5,
   "id": "9a368314",
   "metadata": {},
   "outputs": [],
   "source": [
    "MapPluto = gpd.read_file(\"../vector/MapPluto_BK\")"
   ]
  },
  {
   "cell_type": "code",
   "execution_count": 14,
   "id": "5aaf9273",
   "metadata": {},
   "outputs": [],
   "source": [
    "sel_1 = MapPluto[MapPluto['CD']==301]\n",
    "sel_2 = MapPluto[MapPluto['CD']==302]\n",
    "sel_3 = MapPluto[MapPluto['CD']==303]\n",
    "sel_4 = MapPluto[MapPluto['CD']==306]\n",
    "MapPluto_sel = pd.concat([sel_1, sel_2,sel_3,sel_4])"
   ]
  },
  {
   "cell_type": "code",
   "execution_count": 28,
   "id": "4558ba8e",
   "metadata": {},
   "outputs": [
    {
     "name": "stdout",
     "output_type": "stream",
     "text": [
      "['Borough', 'Block', 'Lot', 'CD', 'BCT2020', 'BCTCB2020', 'CT2010', 'CB2010', 'SchoolDist', 'Council', 'ZipCode', 'FireComp', 'PolicePrct', 'HealthCent', 'HealthArea', 'Sanitboro', 'SanitDistr', 'SanitSub', 'Address', 'ZoneDist1', 'ZoneDist2', 'ZoneDist3', 'ZoneDist4', 'Overlay1', 'Overlay2', 'SPDist1', 'SPDist2', 'SPDist3', 'LtdHeight', 'SplitZone', 'BldgClass', 'LandUse', 'Easements', 'OwnerType', 'OwnerName', 'LotArea', 'BldgArea', 'ComArea', 'ResArea', 'OfficeArea', 'RetailArea', 'GarageArea', 'StrgeArea', 'FactryArea', 'OtherArea', 'AreaSource', 'NumBldgs', 'NumFloors', 'UnitsRes', 'UnitsTotal', 'LotFront', 'LotDepth', 'BldgFront', 'BldgDepth', 'Ext', 'ProxCode', 'IrrLotCode', 'LotType', 'BsmtCode', 'AssessLand', 'AssessTot', 'ExemptTot', 'YearBuilt', 'YearAlter1', 'YearAlter2', 'HistDist', 'Landmark', 'BuiltFAR', 'ResidFAR', 'CommFAR', 'FacilFAR', 'BoroCode', 'BBL', 'CondoNo', 'Tract2010', 'XCoord', 'YCoord', 'ZoneMap', 'ZMCode', 'Sanborn', 'TaxMap', 'EDesigNum', 'APPBBL', 'APPDate', 'PLUTOMapID', 'FIRM07_FLA', 'PFIRM15_FL', 'Version', 'DCPEdited', 'Latitude', 'Longitude', 'Notes', 'Shape_Leng', 'Shape_Area', 'geometry']\n"
     ]
    }
   ],
   "source": [
    "print(MapPluto_sel.columns.to_list())"
   ]
  },
  {
   "cell_type": "code",
   "execution_count": 16,
   "id": "1c49a68f",
   "metadata": {},
   "outputs": [],
   "source": [
    "MapPluto_sel.to_file('../output/MapPluto_sel.shp')  "
   ]
  }
 ],
 "metadata": {
  "kernelspec": {
   "display_name": "Python 3",
   "language": "python",
   "name": "python3"
  },
  "language_info": {
   "codemirror_mode": {
    "name": "ipython",
    "version": 3
   },
   "file_extension": ".py",
   "mimetype": "text/x-python",
   "name": "python",
   "nbconvert_exporter": "python",
   "pygments_lexer": "ipython3",
   "version": "3.8.8"
  }
 },
 "nbformat": 4,
 "nbformat_minor": 5
}
