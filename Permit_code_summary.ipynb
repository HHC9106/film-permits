{
 "cells": [
  {
   "cell_type": "code",
   "execution_count": 2,
   "id": "63f0d3dd",
   "metadata": {},
   "outputs": [],
   "source": [
    "import warnings\n",
    "warnings.filterwarnings(\"ignore\")\n",
    "\n",
    "import requests\n",
    "import numpy as np\n",
    "import pandas as pd\n",
    "import geopandas as gpd # GeoPandas library for spatial analytics\n",
    "from shapely.geometry import shape\n",
    "from shapely.geometry import shape\n",
    "\n",
    "from datetime import datetime, timedelta"
   ]
  },
  {
   "cell_type": "markdown",
   "id": "866f70cd",
   "metadata": {},
   "source": [
    "# Table\n",
    "\n",
    "## [- Geocoding](#Geocoding)\n",
    "\n",
    "1. [Address Data Cleaning](#Address-Data-Cleaning)\n",
    "2. [Create cache-like database](#Create-cache-like-database)\n",
    "3. [Geocoding for street segment](#Geocoding-for-street-segment)\n",
    "4. [Get Geometry from LION](#Get-Geometry-from-LION)\n",
    "5. [Create permit GeoDataFrame and Export it](#Create-permit-GeoDataFrame-and-Export-it)\n",
    "\n",
    "## [- Count the Number of Permit](#Count-the-Number-of-Permit)\n",
    "1. [Count Permit by Street Segments](#Count-Permit-by-Street-Segments)"
   ]
  },
  {
   "cell_type": "markdown",
   "id": "09dcd36f",
   "metadata": {},
   "source": [
    "# Geocoding"
   ]
  },
  {
   "cell_type": "markdown",
   "id": "e9529f50",
   "metadata": {},
   "source": [
    "## Address Data Cleaning"
   ]
  },
  {
   "cell_type": "code",
   "execution_count": 3,
   "id": "d1be59f5",
   "metadata": {},
   "outputs": [],
   "source": [
    "df_film= pd.read_csv(r'../data/Film_Permits.csv')"
   ]
  },
  {
   "cell_type": "code",
   "execution_count": 4,
   "id": "54350691",
   "metadata": {},
   "outputs": [
    {
     "data": {
      "text/plain": [
       "0       [SUTTON STREET between NORMAN AVENUE and NASSA...\n",
       "1       [COVERT ST between WYCKOFF AVENUE and IRVING A...\n",
       "2       [WHITE STREET between SEIGEL STREET and MOORE ...\n",
       "3       [BARCLAY STREET between BROADWAY and CHURCH ST...\n",
       "4       [WEST   13 STREET between 10 AVENUE and WASHIN...\n",
       "                              ...                        \n",
       "7362    [WEBSTER AVENUE between EAST  235 STREET and E...\n",
       "7363    [PROVOST STREET between PAIDGE AVENUE and HURO...\n",
       "7364    [EAST   11 STREET between 3 AVENUE and 4 AVENU...\n",
       "7365    [HICKS STREET between HUNTINGTON STREET and WE...\n",
       "7366    [PEARL STREET between PECK SLIP and BEEKMAN ST...\n",
       "Name: OFT_Text, Length: 7367, dtype: object"
      ]
     },
     "execution_count": 4,
     "metadata": {},
     "output_type": "execute_result"
    }
   ],
   "source": [
    "#divide the multiple address string into multiple lists\n",
    "df_film['OFT_Text'] = df_film['ParkingHeld'].str.split(',')\n",
    "df_film['OFT_Text'] "
   ]
  },
  {
   "cell_type": "markdown",
   "id": "95b7b403",
   "metadata": {},
   "source": [
    "## Create cache-like database"
   ]
  },
  {
   "cell_type": "code",
   "execution_count": 5,
   "id": "7447735b",
   "metadata": {},
   "outputs": [],
   "source": [
    "# create the cache-like database to store the result of query.\n",
    "# If the address has been queried, then it won't be query again and saves time. \n",
    "\n",
    "data = {}\n",
    "oft_lookup = {}\n",
    "def getOFT(url):\n",
    "    data = oft_lookup.get(url)\n",
    "    if url not in oft_lookup:\n",
    "        r = requests.get(url)\n",
    "        data = r.json()\n",
    "        oft_lookup[url] = data \n",
    "    return data    "
   ]
  },
  {
   "cell_type": "markdown",
   "id": "57dcb95f",
   "metadata": {},
   "source": [
    "## Geocoding for street segment"
   ]
  },
  {
   "cell_type": "code",
   "execution_count": 6,
   "id": "204a0e21",
   "metadata": {},
   "outputs": [],
   "source": [
    "segidlookup=[]\n",
    "\n",
    "def getGeom(row):\n",
    "    boro = row['Borough']\n",
    "    #print(boro)\n",
    "    segids = []\n",
    "    for oft in row['OFT_Text']:\n",
    "        oft_1 = oft.strip()\n",
    "        try:\n",
    "            # split the address into on_street, from_street, to_street format, then the API can read\n",
    "            on_street = oft_1.split('between')[0]\n",
    "            from_street, to_street  = oft_1.split('between')[1].split('and')\n",
    "\n",
    "            # query from geocoding service API\n",
    "            url = f'https://www.locationservice.nyc/locationserviceapi//api/Block?OnStreet={on_street}&CrossStreetOne={from_street}&CrossStreetTwo={to_street}&Borough={boro}&BlockType=ExtendedStretch&ExtendedStretchType=Blockface&'\n",
    "            data = getOFT(url)\n",
    "\n",
    "            # extract the SegementID from JSON format\n",
    "            if 'BlockFaceList' in data:\n",
    "                for i in data['BlockFaceList']:\n",
    "                    if 'SegmentID' in i:\n",
    "                        segids.append(i['SegmentID'])\n",
    "                        segidlookup.append({\n",
    "                            'EventID': row['EventID'],\n",
    "                            'SegmentID': i['SegmentID']\n",
    "                        })\n",
    "        except:\n",
    "\n",
    "            continue          \n",
    "    return segids\n",
    "      \n",
    "df_film['segids'] = df_film[:50].apply(getGeom, axis = 1)"
   ]
  },
  {
   "cell_type": "markdown",
   "id": "d941eb2b",
   "metadata": {},
   "source": [
    "## Get Geometry from LION"
   ]
  },
  {
   "cell_type": "code",
   "execution_count": 7,
   "id": "9555ab05",
   "metadata": {
    "scrolled": true
   },
   "outputs": [
    {
     "data": {
      "text/html": [
       "<div>\n",
       "<style scoped>\n",
       "    .dataframe tbody tr th:only-of-type {\n",
       "        vertical-align: middle;\n",
       "    }\n",
       "\n",
       "    .dataframe tbody tr th {\n",
       "        vertical-align: top;\n",
       "    }\n",
       "\n",
       "    .dataframe thead th {\n",
       "        text-align: right;\n",
       "    }\n",
       "</style>\n",
       "<table border=\"1\" class=\"dataframe\">\n",
       "  <thead>\n",
       "    <tr style=\"text-align: right;\">\n",
       "      <th></th>\n",
       "      <th>EventID</th>\n",
       "      <th>SegmentID</th>\n",
       "    </tr>\n",
       "  </thead>\n",
       "  <tbody>\n",
       "    <tr>\n",
       "      <th>0</th>\n",
       "      <td>628327</td>\n",
       "      <td>0065898</td>\n",
       "    </tr>\n",
       "    <tr>\n",
       "      <th>1</th>\n",
       "      <td>629351</td>\n",
       "      <td>0048509</td>\n",
       "    </tr>\n",
       "    <tr>\n",
       "      <th>2</th>\n",
       "      <td>629319</td>\n",
       "      <td>0044431</td>\n",
       "    </tr>\n",
       "    <tr>\n",
       "      <th>3</th>\n",
       "      <td>629319</td>\n",
       "      <td>0044457</td>\n",
       "    </tr>\n",
       "    <tr>\n",
       "      <th>4</th>\n",
       "      <td>629319</td>\n",
       "      <td>0044453</td>\n",
       "    </tr>\n",
       "    <tr>\n",
       "      <th>...</th>\n",
       "      <td>...</td>\n",
       "      <td>...</td>\n",
       "    </tr>\n",
       "    <tr>\n",
       "      <th>261</th>\n",
       "      <td>560772</td>\n",
       "      <td>0032529</td>\n",
       "    </tr>\n",
       "    <tr>\n",
       "      <th>262</th>\n",
       "      <td>560772</td>\n",
       "      <td>0275252</td>\n",
       "    </tr>\n",
       "    <tr>\n",
       "      <th>263</th>\n",
       "      <td>560790</td>\n",
       "      <td>0048509</td>\n",
       "    </tr>\n",
       "    <tr>\n",
       "      <th>264</th>\n",
       "      <td>560879</td>\n",
       "      <td>0035675</td>\n",
       "    </tr>\n",
       "    <tr>\n",
       "      <th>265</th>\n",
       "      <td>560879</td>\n",
       "      <td>0035676</td>\n",
       "    </tr>\n",
       "  </tbody>\n",
       "</table>\n",
       "<p>266 rows × 2 columns</p>\n",
       "</div>"
      ],
      "text/plain": [
       "     EventID SegmentID\n",
       "0     628327   0065898\n",
       "1     629351   0048509\n",
       "2     629319   0044431\n",
       "3     629319   0044457\n",
       "4     629319   0044453\n",
       "..       ...       ...\n",
       "261   560772   0032529\n",
       "262   560772   0275252\n",
       "263   560790   0048509\n",
       "264   560879   0035675\n",
       "265   560879   0035676\n",
       "\n",
       "[266 rows x 2 columns]"
      ]
     },
     "execution_count": 7,
     "metadata": {},
     "output_type": "execute_result"
    }
   ],
   "source": [
    "#create the dataset with eventID and Segment ID\n",
    "df_segidlookup = pd.DataFrame(segidlookup)\n",
    "df_segidlookup"
   ]
  },
  {
   "cell_type": "code",
   "execution_count": 10,
   "id": "76607713",
   "metadata": {
    "scrolled": true
   },
   "outputs": [
    {
     "data": {
      "text/html": [
       "<div>\n",
       "<style scoped>\n",
       "    .dataframe tbody tr th:only-of-type {\n",
       "        vertical-align: middle;\n",
       "    }\n",
       "\n",
       "    .dataframe tbody tr th {\n",
       "        vertical-align: top;\n",
       "    }\n",
       "\n",
       "    .dataframe thead th {\n",
       "        text-align: right;\n",
       "    }\n",
       "</style>\n",
       "<table border=\"1\" class=\"dataframe\">\n",
       "  <thead>\n",
       "    <tr style=\"text-align: right;\">\n",
       "      <th></th>\n",
       "      <th>OBJECTID</th>\n",
       "      <th>SegmentID</th>\n",
       "      <th>Join_ID</th>\n",
       "      <th>geometry</th>\n",
       "    </tr>\n",
       "  </thead>\n",
       "  <tbody>\n",
       "    <tr>\n",
       "      <th>0</th>\n",
       "      <td>1.0</td>\n",
       "      <td>0078126</td>\n",
       "      <td>2251001000000</td>\n",
       "      <td>LINESTRING (1010964.447 241812.261, 1011265.49...</td>\n",
       "    </tr>\n",
       "    <tr>\n",
       "      <th>1</th>\n",
       "      <td>2.0</td>\n",
       "      <td>0079796</td>\n",
       "      <td>2798401000000</td>\n",
       "      <td>LINESTRING (1011576.687 255023.583, 1011335.15...</td>\n",
       "    </tr>\n",
       "    <tr>\n",
       "      <th>2</th>\n",
       "      <td>3.0</td>\n",
       "      <td>0077356</td>\n",
       "      <td>2728001000000</td>\n",
       "      <td>LINESTRING (1011600.676 239639.743, 1011785.79...</td>\n",
       "    </tr>\n",
       "    <tr>\n",
       "      <th>3</th>\n",
       "      <td>4.0</td>\n",
       "      <td>0077356</td>\n",
       "      <td>21279502000000X</td>\n",
       "      <td>LINESTRING (1011600.676 239639.743, 1011785.79...</td>\n",
       "    </tr>\n",
       "    <tr>\n",
       "      <th>4</th>\n",
       "      <td>5.0</td>\n",
       "      <td>0077356</td>\n",
       "      <td>21279503000000X</td>\n",
       "      <td>LINESTRING (1011600.676 239639.743, 1011785.79...</td>\n",
       "    </tr>\n",
       "  </tbody>\n",
       "</table>\n",
       "</div>"
      ],
      "text/plain": [
       "   OBJECTID SegmentID          Join_ID  \\\n",
       "0       1.0   0078126    2251001000000   \n",
       "1       2.0   0079796    2798401000000   \n",
       "2       3.0   0077356    2728001000000   \n",
       "3       4.0   0077356  21279502000000X   \n",
       "4       5.0   0077356  21279503000000X   \n",
       "\n",
       "                                            geometry  \n",
       "0  LINESTRING (1010964.447 241812.261, 1011265.49...  \n",
       "1  LINESTRING (1011576.687 255023.583, 1011335.15...  \n",
       "2  LINESTRING (1011600.676 239639.743, 1011785.79...  \n",
       "3  LINESTRING (1011600.676 239639.743, 1011785.79...  \n",
       "4  LINESTRING (1011600.676 239639.743, 1011785.79...  "
      ]
     },
     "execution_count": 10,
     "metadata": {},
     "output_type": "execute_result"
    }
   ],
   "source": [
    "#import LION shapfile\n",
    "lion = gpd.read_file(\"../vector/lion_line\")\n",
    "lion_sel = lion[['OBJECTID','SegmentID','Join_ID','geometry']]\n",
    "lion_sel.head(5)"
   ]
  },
  {
   "cell_type": "code",
   "execution_count": 11,
   "id": "dfb9ed66",
   "metadata": {
    "scrolled": true
   },
   "outputs": [
    {
     "data": {
      "text/html": [
       "<div>\n",
       "<style scoped>\n",
       "    .dataframe tbody tr th:only-of-type {\n",
       "        vertical-align: middle;\n",
       "    }\n",
       "\n",
       "    .dataframe tbody tr th {\n",
       "        vertical-align: top;\n",
       "    }\n",
       "\n",
       "    .dataframe thead th {\n",
       "        text-align: right;\n",
       "    }\n",
       "</style>\n",
       "<table border=\"1\" class=\"dataframe\">\n",
       "  <thead>\n",
       "    <tr style=\"text-align: right;\">\n",
       "      <th></th>\n",
       "      <th>EventID</th>\n",
       "      <th>EventType</th>\n",
       "      <th>StartDateTime</th>\n",
       "      <th>EndDateTime</th>\n",
       "      <th>EnteredOn</th>\n",
       "      <th>EventAgency</th>\n",
       "      <th>ParkingHeld</th>\n",
       "      <th>Borough</th>\n",
       "      <th>CommunityBoard(s)</th>\n",
       "      <th>PolicePrecinct(s)</th>\n",
       "      <th>Category</th>\n",
       "      <th>SubCategoryName</th>\n",
       "      <th>Country</th>\n",
       "      <th>ZipCode(s)</th>\n",
       "      <th>OFT_Text</th>\n",
       "      <th>segids</th>\n",
       "      <th>SegmentID</th>\n",
       "      <th>OBJECTID</th>\n",
       "      <th>Join_ID</th>\n",
       "      <th>geometry</th>\n",
       "    </tr>\n",
       "  </thead>\n",
       "  <tbody>\n",
       "    <tr>\n",
       "      <th>0</th>\n",
       "      <td>628327</td>\n",
       "      <td>Shooting Permit</td>\n",
       "      <td>03/08/2022 07:00:00 AM</td>\n",
       "      <td>03/08/2022 07:00:00 PM</td>\n",
       "      <td>02/28/2022 11:13:50 AM</td>\n",
       "      <td>Mayor's Office of Film, Theatre &amp; Broadcasting</td>\n",
       "      <td>SUTTON STREET between NORMAN AVENUE and NASSAU...</td>\n",
       "      <td>Brooklyn</td>\n",
       "      <td>1</td>\n",
       "      <td>94</td>\n",
       "      <td>Television</td>\n",
       "      <td>Pilot</td>\n",
       "      <td>United States of America</td>\n",
       "      <td>11222</td>\n",
       "      <td>[SUTTON STREET between NORMAN AVENUE and NASSA...</td>\n",
       "      <td>[0065898]</td>\n",
       "      <td>0065898</td>\n",
       "      <td>39195.0</td>\n",
       "      <td>3762801000000</td>\n",
       "      <td>LINESTRING (1000675.780 203773.602, 1000590.62...</td>\n",
       "    </tr>\n",
       "    <tr>\n",
       "      <th>1</th>\n",
       "      <td>628327</td>\n",
       "      <td>Shooting Permit</td>\n",
       "      <td>03/08/2022 07:00:00 AM</td>\n",
       "      <td>03/08/2022 07:00:00 PM</td>\n",
       "      <td>02/28/2022 11:13:50 AM</td>\n",
       "      <td>Mayor's Office of Film, Theatre &amp; Broadcasting</td>\n",
       "      <td>SUTTON STREET between NORMAN AVENUE and NASSAU...</td>\n",
       "      <td>Brooklyn</td>\n",
       "      <td>1</td>\n",
       "      <td>94</td>\n",
       "      <td>Television</td>\n",
       "      <td>Pilot</td>\n",
       "      <td>United States of America</td>\n",
       "      <td>11222</td>\n",
       "      <td>[SUTTON STREET between NORMAN AVENUE and NASSA...</td>\n",
       "      <td>[0065898]</td>\n",
       "      <td>0065898</td>\n",
       "      <td>39196.0</td>\n",
       "      <td>36363001000000V</td>\n",
       "      <td>LINESTRING (1000675.780 203773.602, 1000590.62...</td>\n",
       "    </tr>\n",
       "  </tbody>\n",
       "</table>\n",
       "</div>"
      ],
      "text/plain": [
       "   EventID        EventType           StartDateTime             EndDateTime  \\\n",
       "0   628327  Shooting Permit  03/08/2022 07:00:00 AM  03/08/2022 07:00:00 PM   \n",
       "1   628327  Shooting Permit  03/08/2022 07:00:00 AM  03/08/2022 07:00:00 PM   \n",
       "\n",
       "                EnteredOn                                     EventAgency  \\\n",
       "0  02/28/2022 11:13:50 AM  Mayor's Office of Film, Theatre & Broadcasting   \n",
       "1  02/28/2022 11:13:50 AM  Mayor's Office of Film, Theatre & Broadcasting   \n",
       "\n",
       "                                         ParkingHeld   Borough  \\\n",
       "0  SUTTON STREET between NORMAN AVENUE and NASSAU...  Brooklyn   \n",
       "1  SUTTON STREET between NORMAN AVENUE and NASSAU...  Brooklyn   \n",
       "\n",
       "  CommunityBoard(s) PolicePrecinct(s)    Category SubCategoryName  \\\n",
       "0                 1                94  Television           Pilot   \n",
       "1                 1                94  Television           Pilot   \n",
       "\n",
       "                    Country ZipCode(s)  \\\n",
       "0  United States of America      11222   \n",
       "1  United States of America      11222   \n",
       "\n",
       "                                            OFT_Text     segids SegmentID  \\\n",
       "0  [SUTTON STREET between NORMAN AVENUE and NASSA...  [0065898]   0065898   \n",
       "1  [SUTTON STREET between NORMAN AVENUE and NASSA...  [0065898]   0065898   \n",
       "\n",
       "   OBJECTID          Join_ID  \\\n",
       "0   39195.0    3762801000000   \n",
       "1   39196.0  36363001000000V   \n",
       "\n",
       "                                            geometry  \n",
       "0  LINESTRING (1000675.780 203773.602, 1000590.62...  \n",
       "1  LINESTRING (1000675.780 203773.602, 1000590.62...  "
      ]
     },
     "execution_count": 11,
     "metadata": {},
     "output_type": "execute_result"
    }
   ],
   "source": [
    "#join LION to permit data\n",
    "df_film_seg = df_film.merge(df_segidlookup,how='left',on='EventID')\n",
    "df_film_lion = df_film_seg.merge(lion_sel,how='left',on='SegmentID')\n",
    "df_film_lion.head(2)"
   ]
  },
  {
   "cell_type": "code",
   "execution_count": 16,
   "id": "ae9ff981",
   "metadata": {},
   "outputs": [
    {
     "data": {
      "text/plain": [
       "0.03519414769052345"
      ]
     },
     "execution_count": 16,
     "metadata": {},
     "output_type": "execute_result"
    }
   ],
   "source": [
    "#Check the number/percentage of permits with no geometry\n",
    "(df_film_lion['geometry'].isnull().sum(axis = 0))/len(df_film_lion)"
   ]
  },
  {
   "cell_type": "markdown",
   "id": "b53f6301",
   "metadata": {},
   "source": [
    "## Create permit GeoDataFrame and Export it"
   ]
  },
  {
   "cell_type": "code",
   "execution_count": null,
   "id": "071d7bb9",
   "metadata": {},
   "outputs": [],
   "source": [
    "#Turn permit dataframe to geodataframe\n",
    "gdf_film_lion = gpd.GeoDataFrame(df_film_lion, crs=\"EPSG:4326\").set_geometry('geometry')\n",
    "gdf_film_lion_output = gdf_film_lion.drop(columns=['OFT_Text','segids'])\n",
    "\n",
    "#Export the geodataframe to shapefile\n",
    "gdf_film_lion_output.to_file('../output/film permit_city.shp')  "
   ]
  },
  {
   "cell_type": "markdown",
   "id": "bbc9f439",
   "metadata": {},
   "source": [
    "# Count the Number of Permit"
   ]
  },
  {
   "cell_type": "markdown",
   "id": "d8f5fde7",
   "metadata": {},
   "source": [
    "## Count Permit by Street Segments"
   ]
  },
  {
   "cell_type": "code",
   "execution_count": 18,
   "id": "216cca62",
   "metadata": {},
   "outputs": [
    {
     "data": {
      "text/html": [
       "<div>\n",
       "<style scoped>\n",
       "    .dataframe tbody tr th:only-of-type {\n",
       "        vertical-align: middle;\n",
       "    }\n",
       "\n",
       "    .dataframe tbody tr th {\n",
       "        vertical-align: top;\n",
       "    }\n",
       "\n",
       "    .dataframe thead th {\n",
       "        text-align: right;\n",
       "    }\n",
       "</style>\n",
       "<table border=\"1\" class=\"dataframe\">\n",
       "  <thead>\n",
       "    <tr style=\"text-align: right;\">\n",
       "      <th></th>\n",
       "      <th>SegmentID</th>\n",
       "      <th>counts</th>\n",
       "    </tr>\n",
       "  </thead>\n",
       "  <tbody>\n",
       "    <tr>\n",
       "      <th>3016</th>\n",
       "      <td>0035681</td>\n",
       "      <td>349</td>\n",
       "    </tr>\n",
       "    <tr>\n",
       "      <th>2951</th>\n",
       "      <td>0035515</td>\n",
       "      <td>229</td>\n",
       "    </tr>\n",
       "    <tr>\n",
       "      <th>2955</th>\n",
       "      <td>0035520</td>\n",
       "      <td>220</td>\n",
       "    </tr>\n",
       "    <tr>\n",
       "      <th>2947</th>\n",
       "      <td>0035511</td>\n",
       "      <td>208</td>\n",
       "    </tr>\n",
       "    <tr>\n",
       "      <th>4976</th>\n",
       "      <td>0067749</td>\n",
       "      <td>182</td>\n",
       "    </tr>\n",
       "    <tr>\n",
       "      <th>...</th>\n",
       "      <td>...</td>\n",
       "      <td>...</td>\n",
       "    </tr>\n",
       "    <tr>\n",
       "      <th>462</th>\n",
       "      <td>0022412</td>\n",
       "      <td>1</td>\n",
       "    </tr>\n",
       "    <tr>\n",
       "      <th>4756</th>\n",
       "      <td>0065900</td>\n",
       "      <td>1</td>\n",
       "    </tr>\n",
       "    <tr>\n",
       "      <th>4759</th>\n",
       "      <td>0065937</td>\n",
       "      <td>1</td>\n",
       "    </tr>\n",
       "    <tr>\n",
       "      <th>4763</th>\n",
       "      <td>0065961</td>\n",
       "      <td>1</td>\n",
       "    </tr>\n",
       "    <tr>\n",
       "      <th>0</th>\n",
       "      <td>0000184</td>\n",
       "      <td>1</td>\n",
       "    </tr>\n",
       "  </tbody>\n",
       "</table>\n",
       "<p>7874 rows × 2 columns</p>\n",
       "</div>"
      ],
      "text/plain": [
       "     SegmentID  counts\n",
       "3016   0035681     349\n",
       "2951   0035515     229\n",
       "2955   0035520     220\n",
       "2947   0035511     208\n",
       "4976   0067749     182\n",
       "...        ...     ...\n",
       "462    0022412       1\n",
       "4756   0065900       1\n",
       "4759   0065937       1\n",
       "4763   0065961       1\n",
       "0      0000184       1\n",
       "\n",
       "[7874 rows x 2 columns]"
      ]
     },
     "execution_count": 18,
     "metadata": {},
     "output_type": "execute_result"
    }
   ],
   "source": [
    "df_seg_count = gdf_film_lion_output[['EventID','SegmentID']].groupby('SegmentID').count()\n",
    "df_seg_count = df_seg_count.rename(columns={'EventID':'counts'}).reset_index()\n",
    "df_seg_count.sort_values(by='counts', ascending=False)"
   ]
  },
  {
   "cell_type": "code",
   "execution_count": null,
   "id": "f3ef3976",
   "metadata": {},
   "outputs": [],
   "source": []
  }
 ],
 "metadata": {
  "kernelspec": {
   "display_name": "Python 3",
   "language": "python",
   "name": "python3"
  },
  "language_info": {
   "codemirror_mode": {
    "name": "ipython",
    "version": 3
   },
   "file_extension": ".py",
   "mimetype": "text/x-python",
   "name": "python",
   "nbconvert_exporter": "python",
   "pygments_lexer": "ipython3",
   "version": "3.8.8"
  }
 },
 "nbformat": 4,
 "nbformat_minor": 5
}
