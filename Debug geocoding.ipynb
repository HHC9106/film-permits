{
 "cells": [
  {
   "cell_type": "code",
   "execution_count": 1,
   "id": "a93edb92",
   "metadata": {},
   "outputs": [],
   "source": [
    "import warnings\n",
    "warnings.filterwarnings(\"ignore\")\n",
    "\n",
    "import requests\n",
    "import numpy as np\n",
    "import pandas as pd\n",
    "import geopandas as gpd # GeoPandas library for spatial analytics\n",
    "from shapely.geometry import shape\n",
    "from shapely.geometry import shape\n",
    "\n",
    "from datetime import datetime, timedelta"
   ]
  },
  {
   "cell_type": "code",
   "execution_count": 3,
   "id": "d87f0133",
   "metadata": {},
   "outputs": [],
   "source": [
    "permit_city = gpd.read_file(\"../output/film permit_city.shp\" )"
   ]
  },
  {
   "cell_type": "code",
   "execution_count": 9,
   "id": "c1fcc074",
   "metadata": {},
   "outputs": [
    {
     "data": {
      "text/plain": [
       "44837"
      ]
     },
     "execution_count": 9,
     "metadata": {},
     "output_type": "execute_result"
    }
   ],
   "source": [
    "len(permit_city)"
   ]
  },
  {
   "cell_type": "code",
   "execution_count": 10,
   "id": "4d038d05",
   "metadata": {},
   "outputs": [
    {
     "data": {
      "text/plain": [
       "1578"
      ]
     },
     "execution_count": 10,
     "metadata": {},
     "output_type": "execute_result"
    }
   ],
   "source": [
    "len(permit_city[permit_city['geometry'].isna()==True])"
   ]
  },
  {
   "cell_type": "code",
   "execution_count": 11,
   "id": "caaf4692",
   "metadata": {},
   "outputs": [
    {
     "data": {
      "text/plain": [
       "0.03519414769052345"
      ]
     },
     "execution_count": 11,
     "metadata": {},
     "output_type": "execute_result"
    }
   ],
   "source": [
    "len(permit_city[permit_city['geometry'].isna()==True])/len(permit_city)"
   ]
  }
 ],
 "metadata": {
  "kernelspec": {
   "display_name": "Python 3",
   "language": "python",
   "name": "python3"
  },
  "language_info": {
   "codemirror_mode": {
    "name": "ipython",
    "version": 3
   },
   "file_extension": ".py",
   "mimetype": "text/x-python",
   "name": "python",
   "nbconvert_exporter": "python",
   "pygments_lexer": "ipython3",
   "version": "3.8.8"
  }
 },
 "nbformat": 4,
 "nbformat_minor": 5
}
